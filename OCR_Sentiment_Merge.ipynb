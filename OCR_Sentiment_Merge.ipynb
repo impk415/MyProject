{
 "cells": [
  {
   "cell_type": "code",
   "execution_count": 48,
   "id": "526b3f78-0feb-4e39-961d-609a0ea2dea9",
   "metadata": {},
   "outputs": [],
   "source": [
    "import pandas as pd\n",
    "import numpy as np\n",
    "import matplotlib.pyplot as plt\n",
    "import cv2\n",
    "import pytesseract\n",
    "from sklearn.model_selection import train_test_split\n",
    "from sklearn.feature_extraction.text import TfidfVectorizer\n",
    "from sklearn.svm import SVC\n",
    "from sklearn.metrics import classification_report, accuracy_score"
   ]
  },
  {
   "cell_type": "code",
   "execution_count": null,
   "id": "4a08e024-3f1e-46ac-94e4-fa6183d4d899",
   "metadata": {},
   "outputs": [],
   "source": [
    "# Loading the alphabet dataset\n",
    "alphabet_data = pd.read_csv('alphabets_28x28.csv')\n",
    "\n",
    "# Numeric\n",
    "alphabet_data.iloc[:, 1:] = alphabet_data.iloc[:, 1:].apply(pd.to_numeric, errors='coerce')\n",
    "\n",
    "# Dropna\n",
    "cleaned_alphabet_data = alphabet_data.dropna()\n",
    "\n",
    "print(\"Cleaned Data Shape:\", cleaned_alphabet_data.shape)"
   ]
  },
  {
   "cell_type": "code",
   "execution_count": 50,
   "id": "994e16ee-efa7-4af2-b664-ca0b40c777f3",
   "metadata": {},
   "outputs": [
    {
     "name": "stdout",
     "output_type": "stream",
     "text": [
      "<bound method NDFrame.head of        label row 1 col 1 pixel row 1 col 2 pixel row 1 col 3 pixel  \\\n",
      "0          A               0.0               0.0               0.0   \n",
      "1          A               0.0               0.0               0.0   \n",
      "2          A               0.0               0.0               0.0   \n",
      "3          A               0.0               0.0               0.0   \n",
      "4          A               0.0               0.0               0.0   \n",
      "...      ...               ...               ...               ...   \n",
      "372446     Z               0.0               0.0               0.0   \n",
      "372447     Z               0.0               0.0               0.0   \n",
      "372448     Z               0.0               0.0               0.0   \n",
      "372449     Z               0.0               0.0               0.0   \n",
      "372450     Z               0.0               0.0               0.0   \n",
      "\n",
      "       row 1 col 4 pixel  row 1 col 5 pixel  row 1 col 6 pixel  \\\n",
      "0                    0.0                0.0                0.0   \n",
      "1                    0.0                0.0                0.0   \n",
      "2                    0.0                0.0                0.0   \n",
      "3                    0.0                0.0                0.0   \n",
      "4                    0.0                0.0                0.0   \n",
      "...                  ...                ...                ...   \n",
      "372446               0.0                0.0                0.0   \n",
      "372447               0.0                0.0                0.0   \n",
      "372448               0.0                0.0                0.0   \n",
      "372449               0.0                0.0                0.0   \n",
      "372450               0.0                0.0                0.0   \n",
      "\n",
      "        row 1 col 7 pixel  row 1 col 8 pixel  row 1 col 9 pixel  ...  \\\n",
      "0                     0.0                0.0                0.0  ...   \n",
      "1                     0.0                0.0                0.0  ...   \n",
      "2                     0.0                0.0                0.0  ...   \n",
      "3                     0.0                0.0                0.0  ...   \n",
      "4                     0.0                0.0                0.0  ...   \n",
      "...                   ...                ...                ...  ...   \n",
      "372446                0.0                0.0                0.0  ...   \n",
      "372447                0.0                0.0                0.0  ...   \n",
      "372448                0.0                0.0                0.0  ...   \n",
      "372449                0.0                0.0                0.0  ...   \n",
      "372450                0.0                0.0                0.0  ...   \n",
      "\n",
      "        row 28 col 19 pixel  row 28 col 20 pixel  row 28 col 21 pixel  \\\n",
      "0                       0.0                  0.0                  0.0   \n",
      "1                       0.0                  0.0                  0.0   \n",
      "2                       0.0                  0.0                  0.0   \n",
      "3                       0.0                  0.0                  0.0   \n",
      "4                       0.0                  0.0                  0.0   \n",
      "...                     ...                  ...                  ...   \n",
      "372446                  0.0                  0.0                  0.0   \n",
      "372447                  0.0                  0.0                  0.0   \n",
      "372448                  0.0                  0.0                  0.0   \n",
      "372449                  0.0                  0.0                  0.0   \n",
      "372450                  0.0                  0.0                  0.0   \n",
      "\n",
      "        row 28 col 22 pixel  row 28 col 23 pixel  row 28 col 24 pixel  \\\n",
      "0                       0.0                  0.0                  0.0   \n",
      "1                       0.0                  0.0                  0.0   \n",
      "2                       0.0                  0.0                  0.0   \n",
      "3                       0.0                  0.0                  0.0   \n",
      "4                       0.0                  0.0                  0.0   \n",
      "...                     ...                  ...                  ...   \n",
      "372446                  0.0                  0.0                  0.0   \n",
      "372447                  0.0                  0.0                  0.0   \n",
      "372448                  0.0                  0.0                  0.0   \n",
      "372449                  0.0                  0.0                  0.0   \n",
      "372450                  0.0                  0.0                  0.0   \n",
      "\n",
      "        row 28 col 25 pixel  row 28 col 26 pixel  row 28 col 27 pixel  \\\n",
      "0                       0.0                  0.0                  0.0   \n",
      "1                       0.0                  0.0                  0.0   \n",
      "2                       0.0                  0.0                  0.0   \n",
      "3                       0.0                  0.0                  0.0   \n",
      "4                       0.0                  0.0                  0.0   \n",
      "...                     ...                  ...                  ...   \n",
      "372446                  0.0                  0.0                  0.0   \n",
      "372447                  0.0                  0.0                  0.0   \n",
      "372448                  0.0                  0.0                  0.0   \n",
      "372449                  0.0                  0.0                  0.0   \n",
      "372450                  0.0                  0.0                  0.0   \n",
      "\n",
      "        row 28 col 28 pixel  \n",
      "0                       0.0  \n",
      "1                       0.0  \n",
      "2                       0.0  \n",
      "3                       0.0  \n",
      "4                       0.0  \n",
      "...                     ...  \n",
      "372446                  0.0  \n",
      "372447                  0.0  \n",
      "372448                  0.0  \n",
      "372449                  0.0  \n",
      "372450                  0.0  \n",
      "\n",
      "[371391 rows x 785 columns]>\n"
     ]
    }
   ],
   "source": [
    "print(cleaned_alphabet_data.head)"
   ]
  },
  {
   "cell_type": "code",
   "execution_count": 56,
   "id": "fbd4fe9f-41d4-4f02-b1f5-cbbca6bf9109",
   "metadata": {},
   "outputs": [
    {
     "data": {
      "image/png": "[encoded data removed]",
      "text/plain": [
       "<Figure size 640x480 with 1 Axes>"
      ]
     },
     "metadata": {},
     "output_type": "display_data"
    }
   ],
   "source": [
    "first_image_data = cleaned_alphabet_data.iloc[0, 1:].values.astype(np.uint8).reshape(28, 28)\n",
    "plt.imshow(first_image_data, cmap='gray')\n",
    "plt.axis('off')  # Disable axis\n",
    "plt.title('First Image')\n",
    "plt.show()"
   ]
  },
  {
   "cell_type": "code",
   "execution_count": 62,
   "id": "08a83f65-2f03-465a-8e5d-f851200aca0b",
   "metadata": {},
   "outputs": [],
   "source": [
    "# OCR on Alphabets Dataset\n",
    "# Used cv2 for greyscale conversion\n",
    "# Used opencv's pytesseract lib for thresholding \n",
    "def ocr_image(image_data):\n",
    "    # Used gpt' help here to reshape (didn't know astype concept)\n",
    "    image_array = image_data.values.astype(np.uint8).reshape(28, 28)\n",
    "    \n",
    "    gray = cv2.cvtColor(image_array, cv2.COLOR_BGR2GRAY)  # Convert to grayscale\n",
    "    \n",
    "    # Thresholding to preprocess the image (Used online reference) \n",
    "    _, thresh = cv2.threshold(gray, 0, 255, cv2.THRESH_BINARY_INV + cv2.THRESH_OTSU)\n",
    "    line = pytesseract.image_to_string(thresh, config='--psm 10')\n",
    "    \n",
    "    return line.strip()\n",
    "\n"
   ]
  },
  {
   "cell_type": "code",
   "execution_count": 74,
   "id": "4552db71-f868-4627-8b01-2e0167f85ef3",
   "metadata": {},
   "outputs": [
    {
     "name": "stdout",
     "output_type": "stream",
     "text": [
      "Index(['line', 'sentiment'], dtype='object')\n",
      "<bound method NDFrame.head of                                                  line sentiment\n",
      "0   I AM REALLY FRUSTRATED BECAUSE YOU CONSTANTLY ...     Angry\n",
      "1   IT MAKES ME UPSET THAT YOU NEVER TAKE RESPONSI...     Angry\n",
      "2   I CANNOT BELIEVE YOU MISSED ANOTHER DEADLINE A...     Angry\n",
      "3   IT ANNOYS ME WHEN YOU INTERRUPT DURING MEETING...     Angry\n",
      "4   I AM TIRED OF YOUR EXCUSES EVERY TIME SOMETHIN...     Angry\n",
      "5   IT UPSETS ME THAT YOU ALWAYS ARRIVE LATE AND Y...     Angry\n",
      "6   I AM REALLY ANGRY BECAUSE YOU NEVER PREPARE FO...     Angry\n",
      "7   IT INFURIATES ME THAT YOU NEVER APPRECIATE THE...     Angry\n",
      "8   I CANNOT STAND HOW YOU ALWAYS TALK DOWN TO PEO...     Angry\n",
      "9   IT IS VERY DISAPPOINTING THAT YOU NEVER FOLLOW...     Angry\n",
      "10  I AM VERY HAPPY BECAUSE YOU ALWAYS LISTEN CARE...     Happy\n",
      "11  IT IS WONDERFUL HOW YOU ALWAYS COME PREPARED A...     Happy\n",
      "12  I APPRECIATE HOW YOU ALWAYS OFFER TO HELP AND ...     Happy\n",
      "13  IT IS FANTASTIC THAT YOU ALWAYS HAVE A POSITIV...     Happy\n",
      "14  I AM GRATEFUL FOR YOUR SUPPORT AND YOU ALWAYS ...     Happy\n",
      "15  IT MAKES ME HAPPY THAT YOU ALWAYS RECOGNIZE TH...     Happy\n",
      "16  I AM REALLY IMPRESSED BY YOUR CREATIVITY AND Y...     Happy\n",
      "17  IT IS AMAZING HOW YOU ALWAYS STAY CALM UNDER P...     Happy\n",
      "18  I AM THANKFUL FOR YOUR RELIABILITY AND YOU ALW...     Happy\n",
      "19  IT IS GREAT THAT YOU ALWAYS COMMUNICATE CLEARL...     Happy\n",
      "20  THE MEETING TODAY COVERED A LOT OF IMPORTANT P...   Neutral\n",
      "21  YOUR PRESENTATION WAS CLEAR AND CONCISE AND IT...   Neutral\n",
      "22  I APPRECIATE THE FEEDBACK YOU PROVIDED AND IT ...   Neutral\n",
      "23  THE EVENT YESTERDAY WAS WELLORGANIZED AND THE ...   Neutral\n",
      "24  YOUR REPORT WAS THOROUGH AND DETAILED INCLUDIN...   Neutral\n",
      "25  I FOUND YOUR ARTICLE INTERESTING AND WELLWRITT...   Neutral\n",
      "26  THE TRAINING SESSION WAS USEFUL PROVIDING PRAC...   Neutral\n",
      "27  YOUR EMAIL WAS CLEAR AND INFORMATIVE ADDRESSIN...   Neutral\n",
      "28  I ATTENDED THE WORKSHOP YOU RECOMMENDED AND IT...   Neutral\n",
      "29  THE FEEDBACK SESSION WAS PRODUCTIVE ALLOWING F...   Neutral>\n"
     ]
    }
   ],
   "source": [
    "# Loading sentiment analysis dataset\n",
    "sentiment_data = pd.read_csv('sentiment_analysis_dataset.csv')\n",
    "\n",
    "# Spliting data\n",
    "X = sentiment_data['line']\n",
    "y = sentiment_data['sentiment']\n",
    "\n",
    "print(sentiment_data.columns)\n",
    "\n",
    "print(sentiment_data.head)\n"
   ]
  },
  {
   "cell_type": "code",
   "execution_count": 80,
   "id": "d95dc823-5491-403f-b26b-29ebe500abcc",
   "metadata": {},
   "outputs": [
    {
     "name": "stdout",
     "output_type": "stream",
     "text": [
      "(24,) (6,) (24,) (6,)\n",
      "  (0, 134)\t0.3101388711563481\n",
      "  (0, 182)\t0.2744723455645509\n",
      "  (0, 148)\t0.2744723455645509\n",
      "  (0, 110)\t0.24916654293389517\n",
      "  (0, 213)\t0.2744723455645509\n",
      "  (0, 166)\t0.24916654293389517\n",
      "  (0, 113)\t0.3101388711563481\n",
      "  (0, 216)\t0.1881942147114423\n",
      "  (0, 120)\t0.13896790541173318\n",
      "  (0, 7)\t0.17592895111597392\n",
      "  (0, 171)\t0.3101388711563481\n",
      "  (0, 232)\t0.11210516876393051\n",
      "  (0, 229)\t0.3101388711563481\n",
      "  (0, 191)\t0.2657979673082878\n",
      "  (0, 17)\t0.3101388711563481\n",
      "  (1, 133)\t0.2970596571440486\n",
      "  (1, 217)\t0.2970596571440486\n",
      "  (1, 108)\t0.23865866132722505\n",
      "  (1, 161)\t0.2970596571440486\n",
      "  (1, 143)\t0.2970596571440486\n",
      "  (1, 3)\t0.2628972645864337\n",
      "  (1, 109)\t0.2970596571440486\n",
      "  (1, 55)\t0.2970596571440486\n",
      "  (1, 194)\t0.2970596571440486\n",
      "  (1, 173)\t0.2970596571440486\n",
      "  :\t:\n",
      "  (22, 5)\t0.1534392213365141\n",
      "  (22, 233)\t0.13369321128513403\n",
      "  (22, 110)\t0.25065560588738917\n",
      "  (22, 120)\t0.1397984019833703\n",
      "  (22, 7)\t0.08849016668904575\n",
      "  (22, 232)\t0.11277512891081044\n",
      "  (23, 208)\t0.2995789969251101\n",
      "  (23, 76)\t0.2995789969251101\n",
      "  (23, 67)\t0.2995789969251101\n",
      "  (23, 158)\t0.2995789969251101\n",
      "  (23, 8)\t0.2995789969251101\n",
      "  (23, 137)\t0.2651268757809409\n",
      "  (23, 123)\t0.2651268757809409\n",
      "  (23, 84)\t0.1547275988156045\n",
      "  (23, 146)\t0.17177846452980644\n",
      "  (23, 215)\t0.16282604624111066\n",
      "  (23, 220)\t0.16282604624111066\n",
      "  (23, 144)\t0.1817864167111794\n",
      "  (23, 21)\t0.24068270681814474\n",
      "  (23, 169)\t0.24068270681814474\n",
      "  (23, 6)\t0.1817864167111794\n",
      "  (23, 119)\t0.2946685911340206\n",
      "  (23, 233)\t0.12837392509694154\n",
      "  (23, 7)\t0.08496938566407658\n",
      "  (23, 232)\t0.10828811584694213\n"
     ]
    }
   ],
   "source": [
    "# Used scilit learn (Hope atleat that's allowed)\n",
    "X_train, X_test, y_train, y_test = train_test_split(X, y, test_size=0.2, random_state=42)\n",
    "\n",
    "# This initialization is for feature extraction again using scikit learn\n",
    "vectorizer = TfidfVectorizer(max_features=1000)  \n",
    "\n",
    "# Fit and transform method on the training data\n",
    "X_train_tfidf = vectorizer.fit_transform(X_train)\n",
    "X_test_tfidf = vectorizer.transform(X_test)\n",
    "\n",
    "print(X_train.shape, X_test.shape, y_train.shape, y_test.shape)\n",
    "\n",
    "print(X_train_tfidf)"
   ]
  },
  {
   "cell_type": "code",
   "execution_count": 94,
   "id": "65c9c1ca-cec5-4228-91d5-1b31274a44dd",
   "metadata": {},
   "outputs": [
    {
     "name": "stdout",
     "output_type": "stream",
     "text": [
      "YOUR EMAIL WAS CLEAR AND INFORMATIVE ADDRESSING ALL THE IMPORTANT POINTS AND PROVIDING THE NECESSARY UPDATES\n",
      "Neutral\n",
      "IT MAKES ME HAPPY THAT YOU ALWAYS RECOGNIZE THE EFFORTS OF OTHERS AND YOUR APPRECIATION MOTIVATES EVERYONE TO KEEP WORKING HARD\n",
      "Angry\n",
      "THE EVENT YESTERDAY WAS WELLORGANIZED AND THE AGENDA WAS FOLLOWED SMOOTHLY ENSURING EVERYTHING WENT ACCORDING TO PLAN\n",
      "Neutral\n",
      "IT IS AMAZING HOW YOU ALWAYS STAY CALM UNDER PRESSURE AND YOUR COMPOSURE HELPS EVERYONE STAY FOCUSED AND ON TRACK\n",
      "Happy\n"
     ]
    }
   ],
   "source": [
    "# SVM\n",
    "svm_classifier = SVC(kernel='linear', random_state=42)\n",
    "\n",
    "# Training classifier\n",
    "svm_classifier.fit(X_train_tfidf, y_train)\n",
    "\n",
    "# Predict sentiment \n",
    "y_pred = svm_classifier.predict(X_test_tfidf)\n",
    "\n",
    "print(X_test.iloc[0])\n",
    "print(y_pred[0])\n",
    "\n",
    "print(X_test.iloc[1])\n",
    "print(y_pred[1])\n",
    "\n",
    "print(X_test.iloc[2])\n",
    "print(y_pred[2])\n",
    "\n",
    "print(X_test.iloc[3])\n",
    "print(y_pred[3])"
   ]
  },
  {
   "cell_type": "code",
   "execution_count": 96,
   "id": "f13d5f54-28dd-448d-8f9d-c9247e3da62a",
   "metadata": {},
   "outputs": [
    {
     "name": "stdout",
     "output_type": "stream",
     "text": [
      "Classification Report:\n",
      "              precision    recall  f1-score   support\n",
      "\n",
      "       Angry       0.50      0.50      0.50         2\n",
      "       Happy       0.50      0.50      0.50         2\n",
      "     Neutral       1.00      1.00      1.00         2\n",
      "\n",
      "    accuracy                           0.67         6\n",
      "   macro avg       0.67      0.67      0.67         6\n",
      "weighted avg       0.67      0.67      0.67         6\n",
      "\n",
      "Accuracy: 0.6666666666666666\n"
     ]
    }
   ],
   "source": [
    "# Performance\n",
    "print(\"Classification Report:\")\n",
    "print(classification_report(y_test, y_pred))\n",
    "print(\"Accuracy:\", accuracy_score(y_test, y_pred))\n",
    "\n",
    "# Got stuck after this \n",
    "# Output of ocr image was not compatible with function which I was able to build for sentiment analysis\n",
    "# It seems thresholding using that inbulit \"_, thresh = cv2.threshold(gray, 0, 255, cv2.THRESH_BINARY_INV + cv2.THRESH_OTSU)\"\n",
    "# changing the greyscale and normal input which used sentiment analysis is not working \n",
    "# According to me next steps would be integrating these ocr_image outputs to classifier somehow and then test them on target images "
   ]
  },
  {
   "cell_type": "code",
   "execution_count": null,
   "id": "ded97ac0-b0fc-47c2-a10f-53e6a96a3f57",
   "metadata": {},
   "outputs": [],
   "source": []
  }
 ],
 "metadata": {
  "kernelspec": {
   "display_name": "Python 3 (ipykernel)",
   "language": "python",
   "name": "python3"
  },
  "language_info": {
   "codemirror_mode": {
    "name": "ipython",
    "version": 3
   },
   "file_extension": ".py",
   "mimetype": "text/x-python",
   "name": "python",
   "nbconvert_exporter": "python",
   "pygments_lexer": "ipython3",
   "version": "3.12.4"
  }
 },
 "nbformat": 4,
 "nbformat_minor": 5
}
